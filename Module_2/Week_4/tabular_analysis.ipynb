{
 "cells": [
  {
   "cell_type": "markdown",
   "metadata": {},
   "source": [
    "## **Câu hỏi 5**"
   ]
  },
  {
   "cell_type": "code",
   "execution_count": 2,
   "metadata": {},
   "outputs": [
    {
     "name": "stdout",
     "output_type": "stream",
     "text": [
      "Correlation between TV and Sales: 0.05\n"
     ]
    }
   ],
   "source": [
    "import pandas as pd\n",
    "import numpy as np\n",
    "\n",
    "data = pd.read_csv('advertising.csv')\n",
    "\n",
    "def correlation(x, y):\n",
    "    return np.corrcoef(x, y)[0, 1]\n",
    "\n",
    "x = data['TV']\n",
    "y = data['Radio']\n",
    "corr_xy = correlation(x, y)\n",
    "print(f\"Correlation between TV and Sales: {round(corr_xy, 2)}\")"
   ]
  },
  {
   "cell_type": "markdown",
   "metadata": {},
   "source": [
    "## **Câu hỏi 6**"
   ]
  },
  {
   "cell_type": "code",
   "execution_count": 4,
   "metadata": {},
   "outputs": [
    {
     "name": "stdout",
     "output_type": "stream",
     "text": [
      "Correlation between TV and TV: 1.0\n",
      "Correlation between TV and Radio: 0.05\n",
      "Correlation between TV and Newspaper: 0.06\n",
      "Correlation between Radio and TV: 0.05\n",
      "Correlation between Radio and Radio: 1.0\n",
      "Correlation between Radio and Newspaper: 0.35\n",
      "Correlation between Newspaper and TV: 0.06\n",
      "Correlation between Newspaper and Radio: 0.35\n",
      "Correlation between Newspaper and Newspaper: 1.0\n"
     ]
    }
   ],
   "source": [
    "features = [\"TV\", \"Radio\", \"Newspaper\"]\n",
    "\n",
    "for feature_1 in features :\n",
    "    for feature_2 in features :\n",
    "        correlation_value = correlation(data[feature_1], data[feature_2])\n",
    "        print(f\"Correlation between {feature_1} and {feature_2}: {round(correlation_value, 2)}\")"
   ]
  },
  {
   "cell_type": "markdown",
   "metadata": {},
   "source": [
    "## **Câu hỏi 7**"
   ]
  },
  {
   "cell_type": "code",
   "execution_count": 5,
   "metadata": {},
   "outputs": [
    {
     "name": "stdout",
     "output_type": "stream",
     "text": [
      "[[1.         0.35410375]\n",
      " [0.35410375 1.        ]]\n"
     ]
    }
   ],
   "source": [
    "data = pd.read_csv('advertising.csv')\n",
    "c\n",
    "result = np.corrcoef(x, y)\n",
    "print(result)"
   ]
  },
  {
   "cell_type": "markdown",
   "metadata": {},
   "source": [
    "## **Câu hỏi 8**"
   ]
  },
  {
   "cell_type": "code",
   "execution_count": 9,
   "metadata": {},
   "outputs": [
    {
     "name": "stdout",
     "output_type": "stream",
     "text": [
      "                 TV     Radio  Newspaper     Sales\n",
      "TV         1.000000  0.054809   0.056648  0.901208\n",
      "Radio      0.054809  1.000000   0.354104  0.349631\n",
      "Newspaper  0.056648  0.354104   1.000000  0.157960\n",
      "Sales      0.901208  0.349631   0.157960  1.000000\n"
     ]
    }
   ],
   "source": [
    "data = pd.read_csv('advertising.csv')\n",
    "x = data['Radio']\n",
    "y = data['Newspaper']\n",
    "\n",
    "print(data.corr())"
   ]
  },
  {
   "cell_type": "markdown",
   "metadata": {},
   "source": [
    "## **Câu hỏi 9**"
   ]
  },
  {
   "cell_type": "code",
   "execution_count": 11,
   "metadata": {},
   "outputs": [
    {
     "data": {
      "image/png": "[encoded data removed]",
      "text/plain": [
       "<Figure size 720x576 with 2 Axes>"
      ]
     },
     "metadata": {
      "needs_background": "light"
     },
     "output_type": "display_data"
    }
   ],
   "source": [
    "import matplotlib.pyplot as plt\n",
    "import seaborn as sns\n",
    "\n",
    "data = pd.read_csv('advertising.csv')\n",
    "\n",
    "plt.figure(figsize = (10, 8))\n",
    "\n",
    "data_corr = data.corr()\n",
    "sns.heatmap(data_corr, annot = True, fmt = '.2f', linewidths = .5)\n",
    "\n",
    "plt.show()"
   ]
  },
  {
   "cell_type": "code",
   "execution_count": null,
   "metadata": {},
   "outputs": [],
   "source": []
  }
 ],
 "metadata": {
  "kernelspec": {
   "display_name": "base",
   "language": "python",
   "name": "python3"
  },
  "language_info": {
   "codemirror_mode": {
    "name": "ipython",
    "version": 3
   },
   "file_extension": ".py",
   "mimetype": "text/x-python",
   "name": "python",
   "nbconvert_exporter": "python",
   "pygments_lexer": "ipython3",
   "version": "3.9.19"
  }
 },
 "nbformat": 4,
 "nbformat_minor": 2
}
