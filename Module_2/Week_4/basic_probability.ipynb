{
 "cells": [
  {
   "cell_type": "markdown",
   "metadata": {},
   "source": [
    "## **Câu hỏi 1**"
   ]
  },
  {
   "cell_type": "code",
   "execution_count": 3,
   "metadata": {},
   "outputs": [
    {
     "name": "stdout",
     "output_type": "stream",
     "text": [
      "Mean: 1.8\n"
     ]
    }
   ],
   "source": [
    "import numpy as np\n",
    "def compute_mean(X):\n",
    "    mean = np.mean(X)\n",
    "    return mean\n",
    "\n",
    "X = [2, 0, 2, 2, 7, 4, -2, 5, -1, -1]\n",
    "\n",
    "print(\"Mean:\", compute_mean(X))"
   ]
  },
  {
   "cell_type": "markdown",
   "metadata": {},
   "source": [
    "## **Câu hỏi 2**"
   ]
  },
  {
   "cell_type": "code",
   "execution_count": 18,
   "metadata": {},
   "outputs": [
    {
     "name": "stdout",
     "output_type": "stream",
     "text": [
      "[ 1  4  4  5  9 13]\n",
      "Median: 4.5\n"
     ]
    }
   ],
   "source": [
    "def compute_median(X):\n",
    "    size = len(X)\n",
    "    X = np.sort(X)\n",
    "    print(X)\n",
    "    if size % 2 == 0:\n",
    "        return (X[size//2 - 1] + X[size//2]) * 1/2\n",
    "    else:\n",
    "        return (X[size//2])\n",
    "    \n",
    "X = [1, 5, 4, 4, 9, 13]\n",
    "print(\"Median:\", compute_median(X))"
   ]
  },
  {
   "cell_type": "markdown",
   "metadata": {},
   "source": [
    "## **Câu hỏi 3**"
   ]
  },
  {
   "cell_type": "code",
   "execution_count": 20,
   "metadata": {},
   "outputs": [
    {
     "name": "stdout",
     "output_type": "stream",
     "text": [
      "8.32666399786453\n"
     ]
    }
   ],
   "source": [
    "def compute_std(X):\n",
    "    mean = compute_mean(X)\n",
    "    variance = 0\n",
    "\n",
    "    for i in X:\n",
    "        variance += np.square(i - mean)\n",
    "\n",
    "    variance = variance / len(X)\n",
    "    return np.sqrt(variance)\n",
    "\n",
    "X = [171, 176, 155, 167, 169, 182]\n",
    "print(compute_std(X))"
   ]
  },
  {
   "cell_type": "markdown",
   "metadata": {},
   "source": [
    "## **Câu hỏi 4**"
   ]
  },
  {
   "cell_type": "code",
   "execution_count": 24,
   "metadata": {},
   "outputs": [
    {
     "name": "stdout",
     "output_type": "stream",
     "text": [
      "Correlation:  0.42\n"
     ]
    }
   ],
   "source": [
    "def compute_correlation_cofficient(X, Y):\n",
    "    N = len(X)\n",
    "    numerator = 0\n",
    "    denominator = 0\n",
    "    sum_X = np.sum(X)\n",
    "    sum_Y = np.sum(Y)\n",
    "    sum_XY = np.sum(X * Y)\n",
    "    sum_X_squared = np.sum(X ** 2)\n",
    "    sum_Y_squared = np.sum(Y ** 2)\n",
    "\n",
    "    numerator += (N * sum_XY - sum_X * sum_Y)\n",
    "    denominator += np.sqrt(N * sum_X_squared - np.square(sum_X)) * np.sqrt(N * sum_Y_squared - np.square(sum_Y))\n",
    "\n",
    "    return np.round(numerator / denominator, 2)\n",
    "\n",
    "X = np.asarray([-2, -5, -11, 6, 4, 15, 9])\n",
    "Y = np.asarray([4, 25, 121, 36, 16, 225, 81])\n",
    "print(\"Correlation: \", compute_correlation_cofficient(X, Y))"
   ]
  },
  {
   "cell_type": "code",
   "execution_count": null,
   "metadata": {},
   "outputs": [],
   "source": []
  }
 ],
 "metadata": {
  "kernelspec": {
   "display_name": "base",
   "language": "python",
   "name": "python3"
  },
  "language_info": {
   "codemirror_mode": {
    "name": "ipython",
    "version": 3
   },
   "file_extension": ".py",
   "mimetype": "text/x-python",
   "name": "python",
   "nbconvert_exporter": "python",
   "pygments_lexer": "ipython3",
   "version": "3.9.19"
  }
 },
 "nbformat": 4,
 "nbformat_minor": 2
}
