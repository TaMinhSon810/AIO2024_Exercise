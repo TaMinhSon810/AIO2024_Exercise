{
 "cells": [
  {
   "cell_type": "markdown",
   "metadata": {},
   "source": [
    "## **Decision Tree for Classification**"
   ]
  },
  {
   "cell_type": "code",
   "execution_count": 4,
   "metadata": {},
   "outputs": [
    {
     "data": {
      "text/plain": [
       "1.0"
      ]
     },
     "execution_count": 4,
     "metadata": {},
     "output_type": "execute_result"
    }
   ],
   "source": [
    "# Câu hỏi 1\n",
    "import numpy as np\n",
    "\n",
    "def entropy(p1, p2):\n",
    "    if p1 == 0 or p2 == 0:\n",
    "        return 0\n",
    "    return - (p1 * np.log2(p1) + p2 * np.log2(p2))\n",
    "\n",
    "entropy_1 = entropy(1/2, 1/2)\n",
    "\n",
    "entropy_1"
   ]
  },
  {
   "cell_type": "code",
   "execution_count": 5,
   "metadata": {},
   "outputs": [
    {
     "data": {
      "text/plain": [
       "0.48"
      ]
     },
     "execution_count": 5,
     "metadata": {},
     "output_type": "execute_result"
    }
   ],
   "source": [
    "# Câu hỏi 2\n",
    "def gini(p1, p2):\n",
    "    return 1 - p1**2 - p2**2\n",
    "\n",
    "gini_1 = gini(3/5, 2/5)\n",
    "\n",
    "gini_1"
   ]
  },
  {
   "cell_type": "code",
   "execution_count": 6,
   "metadata": {},
   "outputs": [
    {
     "data": {
      "text/plain": [
       "0.4666666666666667"
      ]
     },
     "execution_count": 6,
     "metadata": {},
     "output_type": "execute_result"
    }
   ],
   "source": [
    "# Câu hỏi 3\n",
    "p_eng_raise = 1/2\n",
    "p_eng_notraise = 1/2\n",
    "p_noteng_raise = 1/3\n",
    "p_noteng_notraise = 2/3\n",
    "\n",
    "gini_eng = gini(p_eng_notraise, p_eng_raise)\n",
    "gini_noteng = gini(p_noteng_notraise, p_noteng_raise)\n",
    "\n",
    "gini_total = 2/5*gini_eng + 3/5*gini_noteng\n",
    "\n",
    "gini_total"
   ]
  },
  {
   "cell_type": "code",
   "execution_count": 21,
   "metadata": {},
   "outputs": [
    {
     "data": {
      "text/plain": [
       "0.26666666666666666"
      ]
     },
     "execution_count": 21,
     "metadata": {},
     "output_type": "execute_result"
    }
   ],
   "source": [
    "# Câu hỏi 4\n",
    "p_lower26_raise = 0\n",
    "p_lower26_notraise = 1\n",
    "p_higher26_raise = 2/3\n",
    "p_higher26_notraise = 1/3\n",
    "\n",
    "gini_lower26 = gini(p_lower26_raise, p_lower26_notraise)\n",
    "gini_higher26 = gini(p_higher26_raise, p_higher26_notraise)\n",
    "\n",
    "gini_age26 = 2/5*gini_lower26 + 3/5*gini_higher26\n",
    "\n",
    "gini_age26"
   ]
  },
  {
   "cell_type": "code",
   "execution_count": 23,
   "metadata": {},
   "outputs": [
    {
     "data": {
      "text/plain": [
       "0.9709505944546686"
      ]
     },
     "execution_count": 23,
     "metadata": {},
     "output_type": "execute_result"
    }
   ],
   "source": [
    "# Câu hỏi 5\n",
    "entropy_raise = entropy(2/5, 3/5)\n",
    "\n",
    "entropy_raise"
   ]
  },
  {
   "cell_type": "code",
   "execution_count": 34,
   "metadata": {},
   "outputs": [
    {
     "data": {
      "text/plain": [
       "0.04902249956730631"
      ]
     },
     "execution_count": 34,
     "metadata": {},
     "output_type": "execute_result"
    }
   ],
   "source": [
    "# Câu hỏi 6\n",
    "entropy_noteng = entropy(2/3, 1/3)\n",
    "entropy_eng = entropy(1/2, 1/2)  \n",
    "\n",
    "gini_eng = 1 - 2/5*entropy_eng - 3/5*entropy_noteng\n",
    "\n",
    "gini_eng"
   ]
  },
  {
   "cell_type": "code",
   "execution_count": 17,
   "metadata": {},
   "outputs": [],
   "source": [
    "import pandas as pd\n",
    "from sklearn.tree import DecisionTreeClassifier\n",
    "\n",
    "data = {'age': [23, 25, 27, 29, 29],\n",
    "        'likes english': [0, 1, 1, 0, 0],\n",
    "        'likes ai': [0, 1, 0, 1, 0],\n",
    "        'raise salary': [0, 0, 1, 1, 0]}\n",
    "\n",
    "# load data\n",
    "df = pd.DataFrame(data)\n",
    "\n",
    "# get value and convert to numpy\n",
    "X = df[['age', 'likes english', 'likes ai']].values\n",
    "y = df[['raise salary']].values.reshape(-1,)\n",
    "\n",
    "# define classifier\n",
    "clf = DecisionTreeClassifier()\n",
    "\n",
    "# train\n",
    "clf = clf.fit(X, y)"
   ]
  },
  {
   "cell_type": "code",
   "execution_count": 18,
   "metadata": {},
   "outputs": [
    {
     "data": {
      "image/png": "[encoded data removed]",
      "text/plain": [
       "<Figure size 864x576 with 1 Axes>"
      ]
     },
     "metadata": {
      "needs_background": "light"
     },
     "output_type": "display_data"
    }
   ],
   "source": [
    "from sklearn.tree import plot_tree\n",
    "import matplotlib.pyplot as plt\n",
    "\n",
    "\n",
    "# visualization\n",
    "plt.figure(figsize = (12, 8))\n",
    "plot_tree(clf, feature_names=['age', 'likes english', 'likes ai'], fontsize=10)\n",
    "plt.show()"
   ]
  },
  {
   "cell_type": "code",
   "execution_count": 35,
   "metadata": {},
   "outputs": [
    {
     "data": {
      "text/plain": [
       "1.0"
      ]
     },
     "execution_count": 35,
     "metadata": {},
     "output_type": "execute_result"
    }
   ],
   "source": [
    "# Câu hỏi 7+8\n",
    "from sklearn import datasets\n",
    "from sklearn.model_selection import train_test_split\n",
    "from sklearn.metrics import accuracy_score, mean_squared_error\n",
    "from sklearn.tree import DecisionTreeClassifier\n",
    "\n",
    "# Load the diabetes dataset\n",
    "iris_X, iris_y = datasets.load_iris(return_X_y=True)\n",
    "\n",
    "# Split train : test = 8:2\n",
    "X_train, X_test, y_train, y_test = train_test_split(\n",
    "    iris_X, iris_y, test_size=0.2, random_state=42\n",
    ")\n",
    "\n",
    "# Define model\n",
    "dt_classifier = DecisionTreeClassifier()\n",
    "\n",
    "# Train\n",
    "dt_classifier.fit(X_train, y_train)\n",
    "\n",
    "# Preidct and evaluate\n",
    "y_pred = dt_classifier.predict(X_test)\n",
    "accuracy_score( y_test, y_pred)"
   ]
  },
  {
   "cell_type": "markdown",
   "metadata": {},
   "source": [
    "## **Decision Tree for Regression**"
   ]
  },
  {
   "cell_type": "code",
   "execution_count": 36,
   "metadata": {},
   "outputs": [],
   "source": [
    "data = {'age': [23, 25, 27, 29, 29],\n",
    "        'likes english': [0, 1, 1, 0, 0],\n",
    "        'likes ai': [0, 1, 0, 1, 0],\n",
    "        'salary': [200, 400, 300, 500, 400]}\n",
    "\n",
    "# load data\n",
    "df = pd.DataFrame(data)"
   ]
  },
  {
   "cell_type": "code",
   "execution_count": 37,
   "metadata": {},
   "outputs": [],
   "source": [
    "def cal_sse(subset):\n",
    "    if len(subset) == 0:\n",
    "        return 0\n",
    "    mean_value = np.mean(subset)\n",
    "    return sum((x - mean_value) ** 2 for x in subset)"
   ]
  },
  {
   "cell_type": "code",
   "execution_count": 46,
   "metadata": {},
   "outputs": [
    {
     "data": {
      "text/plain": [
       "9166.666666666668"
      ]
     },
     "execution_count": 46,
     "metadata": {},
     "output_type": "execute_result"
    }
   ],
   "source": [
    "# Câu hỏi 9\n",
    "salary_likes_ai = df[df['likes ai'] == 1]['salary']\n",
    "salary_not_likes_ai = df[df['likes ai'] == 0]['salary']\n",
    "\n",
    "sse_likes_ai = cal_sse(salary_likes_ai)\n",
    "sse_not_likes_ai = cal_sse(salary_not_likes_ai)\n",
    "\n",
    "len_ai = len(df[df['likes ai'] == 1])\n",
    "len_not_ai = len(df[df['likes ai'] == 0])\n",
    "\n",
    "sse_ai = sse_likes_ai*1/len_ai + sse_not_likes_ai*1/len_not_ai\n",
    "\n",
    "sse_ai"
   ]
  },
  {
   "cell_type": "code",
   "execution_count": 47,
   "metadata": {},
   "outputs": [
    {
     "data": {
      "text/plain": [
       "5000.0"
      ]
     },
     "execution_count": 47,
     "metadata": {},
     "output_type": "execute_result"
    }
   ],
   "source": [
    "# Câu hỏi 10\n",
    "salary_lower_24 = df[df['age'] <= 24]['salary']\n",
    "salary_higher_24 = df[df['age'] > 24]['salary']\n",
    "\n",
    "sse_lower_24 = cal_sse(salary_lower_24)\n",
    "sse_higher_24 = cal_sse(salary_higher_24)\n",
    "\n",
    "len_lower_24 = len(df[df['age'] <= 24])\n",
    "len_higher_24 = len(df[df['age'] > 24])\n",
    "\n",
    "sse_24 = sse_lower_24*1/len_lower_24 + sse_higher_24*1/len_higher_24\n",
    "\n",
    "sse_24"
   ]
  },
  {
   "cell_type": "code",
   "execution_count": 48,
   "metadata": {},
   "outputs": [
    {
     "name": "stderr",
     "output_type": "stream",
     "text": [
      "c:\\Users\\LENOVO\\anaconda\\lib\\site-packages\\sklearn\\datasets\\_openml.py:320: UserWarning: Multiple active versions of the dataset matching the name machine_cpu exist. Versions may be fundamentally different, returning version 1. Available versions:\n",
      "- version 1, status: active\n",
      "  url: https://www.openml.org/search?type=data&id=230\n",
      "- version 2, status: active\n",
      "  url: https://www.openml.org/search?type=data&id=733\n",
      "\n",
      "  warn(warning_msg)\n"
     ]
    },
    {
     "data": {
      "text/plain": [
       "9095.029761904761"
      ]
     },
     "execution_count": 48,
     "metadata": {},
     "output_type": "execute_result"
    }
   ],
   "source": [
    "# Câu hỏi 11\n",
    "from sklearn.datasets import fetch_openml\n",
    "from sklearn.model_selection import train_test_split\n",
    "from sklearn.metrics import mean_squared_error\n",
    "from sklearn.tree import DecisionTreeRegressor\n",
    "\n",
    "# Load dataset\n",
    "machine_cpu = fetch_openml(name = \"machine_cpu\")\n",
    "machine_data = machine_cpu.data\n",
    "machine_labels = machine_cpu.target\n",
    "\n",
    "# Split train : test = 8:2\n",
    "X_train, X_test, y_train, y_test = train_test_split(machine_data, machine_labels, test_size = 0.2, random_state = 42)\n",
    "\n",
    "# Define model\n",
    "tree_reg = DecisionTreeRegressor()\n",
    "\n",
    "# Train\n",
    "tree_reg.fit(X_train, y_train)\n",
    "\n",
    "# Preidct and evaluate\n",
    "y_pred = tree_reg.predict(X_test)\n",
    "mean_squared_error(y_test, y_pred)"
   ]
  },
  {
   "cell_type": "code",
   "execution_count": null,
   "metadata": {},
   "outputs": [],
   "source": []
  }
 ],
 "metadata": {
  "kernelspec": {
   "display_name": "base",
   "language": "python",
   "name": "python3"
  },
  "language_info": {
   "codemirror_mode": {
    "name": "ipython",
    "version": 3
   },
   "file_extension": ".py",
   "mimetype": "text/x-python",
   "name": "python",
   "nbconvert_exporter": "python",
   "pygments_lexer": "ipython3",
   "version": "3.9.19"
  }
 },
 "nbformat": 4,
 "nbformat_minor": 2
}
